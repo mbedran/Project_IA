{
  "cells": [
    {
      "cell_type": "code",
      "execution_count": null,
      "metadata": {
        "id": "-FJIheV06tov"
      },
      "outputs": [],
      "source": [
        "#Connecting colab to drive\n",
        "from google.colab import drive \n",
        "drive.mount('/content/drive')"
      ]
    },
    {
      "cell_type": "code",
      "execution_count": null,
      "metadata": {
        "id": "wIz3pvwhES2e"
      },
      "outputs": [],
      "source": [
        "#Cloning github material into our drive\n",
        "!git clone https://github.com/gmberton/project_vg"
      ]
    },
    {
      "cell_type": "code",
      "execution_count": null,
      "metadata": {
        "id": "yQ8LM6H8HPIa"
      },
      "outputs": [],
      "source": [
        "#Unzipping pitts30k\n",
        "import zipfile \n",
        "with zipfile.ZipFile(\"/content/drive/MyDrive/IAperso/pitts30k.zip\",\"r\") as zip_ref:\n",
        "  zip_ref.extractall(\"/content/drive/MyDrive/IAperso\")"
      ]
    },
    {
      "cell_type": "code",
      "execution_count": null,
      "metadata": {
        "id": "ezhEdvhLzjZg"
      },
      "outputs": [],
      "source": [
        "#Unzipping st_lucia\n",
        "import zipfile \n",
        "with zipfile.ZipFile(\"/content/drive/MyDrive/IAperso/st_lucia.zip\",\"r\") as zip_ref:\n",
        "  zip_ref.extractall(\"/content/drive/MyDrive/IAperso\")"
      ]
    },
    {
      "cell_type": "code",
      "execution_count": null,
      "metadata": {
        "colab": {
          "base_uri": "https://localhost:8080/"
        },
        "id": "x2NKdpgAGERs",
        "outputId": "04fed22b-bd03-44f3-ab08-3573107f76d2"
      },
      "outputs": [
        {
          "name": "stdout",
          "output_type": "stream",
          "text": [
            "mv: cannot stat '/content/project_vg': No such file or directory\n"
          ]
        }
      ],
      "source": [
        "#Moving project_vg to the folder we want\n",
        "!mv \"/content/project_vg\" \"/content/drive/MyDrive/IAperso\""
      ]
    },
    {
      "cell_type": "code",
      "execution_count": null,
      "metadata": {
        "id": "Ogev4k-4G08U"
      },
      "outputs": [],
      "source": [
        "#Putting into the colab what's inside project_vg\n",
        "%cd \"/content/drive/MyDrive/IA_project/project_vg\""
      ]
    },
    {
      "cell_type": "code",
      "execution_count": null,
      "metadata": {
        "id": "7Y94OAD1NC2I"
      },
      "outputs": [],
      "source": [
        "#Installing requirements for our code\n",
        "!pip install faiss_cpu==1.7.1\n",
        "!pip install numpy==1.19.4\n",
        "!pip install Pillow==8.4.0\n",
        "!pip install scikit_learn==1.0.1\n",
        "!pip install torch==1.7.0\n",
        "!pip install torchvision==0.8.1\n",
        "!pip install tqdm==4.48.2"
      ]
    },
    {
      "cell_type": "code",
      "source": [
        "#Training the model on Pittks30k\n",
        "!python3 train.py --datasets_folder\"/content/drive/MyDrive/IAperso\""
      ],
      "metadata": {
        "id": "fL7L0Yt7XOzW"
      },
      "execution_count": null,
      "outputs": []
    },
    {
      "cell_type": "code",
      "execution_count": null,
      "metadata": {
        "id": "ncAMhutiQ6AF"
      },
      "outputs": [],
      "source": [
        "#Modifying learning rate\n",
        "!python3 train.py --datasets_folder \"/content/drive/MyDrive/IAperso\" --lr 0.000001"
      ]
    },
    {
      "cell_type": "code",
      "source": [
        "#Testing the code on Pitts30k\n",
        "!python3 Pitts30k_test_code.py --datasets_folder \"/content/drive/MyDrive/IAperso\""
      ],
      "metadata": {
        "id": "_MVQMaUxY-8b"
      },
      "execution_count": null,
      "outputs": []
    },
    {
      "cell_type": "code",
      "source": [
        "#Testing the code on st_lucia\n",
        "!python3 St_lucia_test_code.py --datasets_folder \"/content/drive/MyDrive/IAperso\""
      ],
      "metadata": {
        "id": "iYqIi9UzXc0J"
      },
      "execution_count": null,
      "outputs": []
    },
    {
      "cell_type": "code",
      "execution_count": null,
      "metadata": {
        "id": "noc73icxaE7E"
      },
      "outputs": [],
      "source": [
        "#Training on Pitts30k with a different “train_positives_dist_threshold”\n",
        "!python3 train.py --datasets_folder \"/content/drive/MyDrive/IAperso\" --train_positives_dist_threshold 5"
      ]
    },
    {
      "cell_type": "code",
      "execution_count": null,
      "metadata": {
        "id": "4fogrMBr7wOR"
      },
      "outputs": [],
      "source": [
        "#Testing on st_lucia with a different “val_positives_dist_threshold”\n",
        "!python3 St_lucia_test_code.py --datasets_folder \"/content/drive/MyDrive/IAperso\" --val_positive_dist_threshold 15"
      ]
    }
  ],
  "metadata": {
    "accelerator": "GPU",
    "colab": {
      "collapsed_sections": [],
      "name": "Projet_IA",
      "provenance": []
    },
    "kernelspec": {
      "display_name": "Python 3",
      "name": "python3"
    },
    "language_info": {
      "name": "python"
    }
  },
  "nbformat": 4,
  "nbformat_minor": 0
}
